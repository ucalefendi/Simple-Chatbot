{
 "cells": [
  {
   "cell_type": "markdown",
   "id": "db2072e5",
   "metadata": {},
   "source": [
    "THIS IS CHATBOT PROJECT"
   ]
  },
  {
   "cell_type": "code",
   "execution_count": 11,
   "id": "d9e1c5de",
   "metadata": {},
   "outputs": [
    {
     "data": {
      "text/plain": [
       "True"
      ]
     },
     "execution_count": 11,
     "metadata": {},
     "output_type": "execute_result"
    }
   ],
   "source": [
    "import os\n",
    "from dotenv import load_dotenv\n",
    "load_dotenv()"
   ]
  },
  {
   "cell_type": "code",
   "execution_count": 12,
   "id": "09be55ba",
   "metadata": {},
   "outputs": [],
   "source": [
    "#this api key is used for the chat bot\n",
    "grog_api_key = os.getenv(\"GROG_API_KEY_CHAT_BOT\")\n"
   ]
  },
  {
   "cell_type": "code",
   "execution_count": 13,
   "id": "0b8e67dc",
   "metadata": {},
   "outputs": [
    {
     "data": {
      "text/plain": [
       "ChatGroq(client=<groq.resources.chat.completions.Completions object at 0x000001E4E3F99160>, async_client=<groq.resources.chat.completions.AsyncCompletions object at 0x000001E4E3F70410>, model_name='Qwen-Qwq-32b', model_kwargs={}, groq_api_key=SecretStr('**********'))"
      ]
     },
     "execution_count": 13,
     "metadata": {},
     "output_type": "execute_result"
    }
   ],
   "source": [
    "from langchain_groq import ChatGroq\n",
    "\n",
    "grog_model = ChatGroq(model=\"Qwen-Qwq-32b\",api_key=grog_api_key)\n",
    "grog_model"
   ]
  },
  {
   "cell_type": "code",
   "execution_count": 17,
   "id": "0d35c018",
   "metadata": {},
   "outputs": [],
   "source": [
    "from langchain_core.messages import HumanMessage\n",
    "\n",
    "response_1 = grog_model.invoke([HumanMessage(\"How can i catch liar?.Tell me about this in detail.\")])\n",
    " \n",
    "# new_content = str(response_1.content)\n",
    "# new_content.strip()"
   ]
  },
  {
   "cell_type": "code",
   "execution_count": null,
   "id": "aa736baf",
   "metadata": {},
   "outputs": [],
   "source": [
    "from langchain_core.messages import AIMessage\n",
    "\n",
    "response_2 = grog_model.invoke(\n",
    "    [\n",
    "        HumanMessage(content=\"How can i catch liar?.Tell me about this in detail.\"),\n",
    "        AIMessage(content=\"To catch a liar, you can look for inconsistencies in their story, observe their \" \\\n",
    "        \" body language for signs of nervousness, and ask them to recount the story in reverse order. Additionally, \" \\\n",
    "        \"paying attention to their eye contact and facial expressions can provide clues about their honesty. It's also helpful \" \\\n",
    "        \"to ask open-ended questions that require detailed responses, as liars may struggle to maintain consistency under pressure.\"),\n",
    "        HumanMessage(content=\"Give me last researching about this topic\")\n",
    "    ]\n",
    ")\n",
    "\n",
    "print(response_2.content)\n",
    "\n",
    "\n"
   ]
  },
  {
   "cell_type": "markdown",
   "id": "3dc00606",
   "metadata": {},
   "source": [
    "###Message history"
   ]
  },
  {
   "cell_type": "code",
   "execution_count": 8,
   "id": "3d616de0",
   "metadata": {},
   "outputs": [],
   "source": [
    "from langchain_community.chat_message_histories import ChatMessageHistory\n",
    "from langchain_core.chat_history import BaseChatMessageHistory\n",
    "from langchain_core.runnables.history import RunnableWithMessageHistory\n"
   ]
  },
  {
   "cell_type": "code",
   "execution_count": 18,
   "id": "4f552afc",
   "metadata": {},
   "outputs": [],
   "source": [
    "store = {}\n",
    "\n",
    "def get_session_history(session_id:str) -> BaseChatMessageHistory:\n",
    "    if session_id not in store:\n",
    "        store[session_id] = ChatMessageHistory() \n",
    "    return store[session_id]\n",
    "    \n",
    "\n",
    "\n",
    "with_message_history = RunnableWithMessageHistory(grog_model,get_session_history)\n"
   ]
  },
  {
   "cell_type": "code",
   "execution_count": 19,
   "id": "7944700c",
   "metadata": {},
   "outputs": [],
   "source": [
    "config = {\"configurable\":{\"session_id\":\"chat1\"}}"
   ]
  },
  {
   "cell_type": "code",
   "execution_count": 26,
   "id": "31960f7d",
   "metadata": {},
   "outputs": [
    {
     "data": {
      "text/plain": [
       "'\\n<think>\\nOkay, the user is asking again about \"How can I catch a liar?\" even after I provided multiple detailed answers. Maybe they need more depth, or maybe they want confirmation or a summary? Let me check the history.\\n\\nLooking back, I\\'ve given extensive guides, techniques, and tips in previous responses. The user might want a more consolidated or step-by-step approach without too much repetition. Alternatively, they could be seeking practical examples or scenarios. \\n\\nI should structure the answer to ensure clarity, maybe break it down into sections like behavioral cues, verbal cues, and practical steps. Also, emphasize ethical considerations and common mistakes to avoid. Maybe include examples for clarity.\\n\\nWait, the user\\'s query is exactly the same as before. Maybe they\\'re not satisfied or need it in a different format. Let me make sure to present it in a more digestible way with numbered steps, key points, and real-life examples to illustrate each step. \\n\\nAlso, ensure to emphasize that it\\'s not foolproof and stress ethical handling. Avoid technical jargon, keep it practical. Maybe add a checklist or quick reference section. Let me organize the info under clear headings like Behavioral Cues, Verbal Cues, Steps to Identify Lies, etc. \\n\\nCheck for any new techniques or additional cues that weren\\'t emphasized enough before. Maybe include the polygraph method\\'s limitations, or digital tools. Also, highlight the importance of baseline behavior again since it\\'s crucial. \\n\\nNeed to make sure the answer is actionable, comprehensive, and addresses both how to detect and what to do next. Maybe add a \"when to involve others\" section for serious cases. Alright, structure it into key sections with bullet points and examples for clarity.\\n</think>\\n\\nDetecting deception is not an exact science, but combining behavioral observation, verbal analysis, and situational context can help identify inconsistencies. Below is a **comprehensive guide** with actionable steps, key cues, and ethical considerations to approach the task effectively:\\n\\n---\\n\\n### **1. **Key Principles to Remember**\\n   - **No Single \"Lie Detector\"**: Focus on **clusters of signs** (e.g., stress cues + inconsistent details).\\n   - **Avoid Myths**:\\n     - \"Liars avoid eye contact\" is a myth; focus on *changes* from their norm.\\n   - **Prioritize Evidence**: Combine cues with physical proof (e.g., records, witnesses).\\n\\n---\\n\\n### **2. **Behavioral Cues (Nonverbal Signs)**\\n**Watch for deviations from their typical behavior:**\\n\\n   | **Cue**                  | **Possible Indication**                  |\\n   |-------------------------|---------------------------------------|\\n   | **Microexpressions**      | Fleeting facial expressions (e.g., fear, disgust). |\\n   | **Stress Responses**      | Increased blinking, throat-clearing, or sweating. |\\n   | **Closed Posture**        | Crossed arms, leaning away, reduced gestures. |\\n   | **Grooming Gestures**     | Touching face, neck, or clothing (self-soothing). |\\n   | **Voice Clusters**       | Hesitations (\"Hmm...\", \"Well...\"), stammering, or overly formal speech. |\\n   | **Eye Contact**           | Avoidance **or** overcompensation (e.g., staring too long). |\\n\\n---\\n\\n### **3. **Verbal Cues (Language Patterns)**\\n**Liars often struggle to maintain consistency:**\\n\\n   - **Overly Detailed or Vague Stories**:\\n     - \"I left work, went home, had dinner\" (lack of specifics).\\n     - \"I was there all day\" with no details about surroundings.\\n   - **Denial Red Flags**:\\n     - \"I **swear** I didn’t…\" (overemphatic swearing).\\n     - \"Why are you even asking?\" (deflection.\\n   - **Language Markers**:\\n     - Detaching statements: \"Mistakes were made\" vs. \"I made a mistake.\"\\n     - Repetition of questions: \"Did I do what?\" (buying time.\\n\\n---\\n\\n### **4. **Step-by-Step Strategy to Identify Lies**\\n#### **Step 1: Establish a Baseline**\\n   - **Observe Norminal Behavior**:\\n     - Note how they act in casual settings (e.g., discussing hobbies, routine tasks).\\n     - Example: If they typically use hand gestures, note if they freeze up under questioning.\\n\\n#### **Step 2: Ask Open-Ended Questions**\\n   - Use neutral questions to encourage elaboration:\\n     - \"Walk me through your day step-by-step.\"\\n     - **Liars often stumble or avoid specifics.\\n\\n#### **Step 3: Test Consistency**\\n   - **Repeat Questions**:\\n     - Ask the same question differently: \"Where were you at 7 PM?\" vs. \"Tell me your evening’s timeline.\"\\n   - **Reverse Timeline**:\\n     - Ask to recount events backward. Truthful people recall naturally; liars may falter.\\n\\n#### **Step 4: Press for Specifics**\\n   - **Ask for Details**:\\n     - \"What were you wearing?\" \"What was the weather?\" \"Who else was present?\"\\n     - Liars often omit or contradict on minor details.\\n\\n#### **Step 5: Analyze Reactions**\\n   - **Cognitive Load**::\\n     - Complex questions (e.g., \"Describe the room, the people, and what you said\") may overwhelm liars.\\n   - **Emotional Dissonance**:\\n     - Laughing while discussing a serious topic or flat emotion when guilt is expected.\\n\\n#### **Step 6: Cross-Reference Evidence**\\n   - **Digital Trails**:\\n     - Check emails, texts, or surveillance footage.\\n     - Use tools like Google Timeline or social media posts.\\n   - **Witness Accounts**:\\n     - Compare their story with others present.\\n\\n#### **Step 7: Address Constructively**\\n   - **Example Dialogue**:\\n     - \"The records show the file was late. Could you explain?\"  \\n     - Stay cal, listen, and base conclusions on facts.\\n\\n---\\n\\n### **5. **Ethical and Practical Tips**\\n   - **Avoid Public Accusations**::\\n     - Address privately: \"I noticed a discrepancy. Let’s clarify.\"\\n   - **Avoid Bias**:\\n     - One nervous cue (e.g., fidgeting) ≠ lying. Look for patterns.\\n   - **Document Everything**:\\n     - Note inconsistencies, behavioral shifts, and evidence.\\n\\n---\\n\\n### **6. **Red Flag Clusters (High Probable Deception)**\\n   - **Cluster 1**:\\n     - Overly emphatic denials + fidgeting + vague details.\\n   - **Cluster 2**:\\n     - Story shifts when asked twice + stress cues (e.g., sweating, pauses.\\n   - **Cluster 3**:\\n     - Emotional flatness when discussing an emotionally charged topic (e.g., laughing while discussing loss.\\n\\n---\\n\\n### **7. **Common Mistakes to Avoid**\\n   - **Overreliance on Myths**:\\n     - \"Avoiding eye contact = lying.\" Look for *changes* from their norm.\\n   - **Confirmation Bias**:\\n     - Don’t assume guilt based on one sign (e.g., someone might be shy, not lying).\\n   - **Cultural Misunderstandings**:\\n     - In some cultures, eye avoidance is polite, not deceit.\\n\\n---\\n\\n### **8. **When to Suspect Deception**\\n   - **High Probable Liar Signs**:\\n     1. Inconsistent stories over time.\\n     2. Stress cues + vagueness.\\n     3. Overdefense or aggression when questioned.\\n   - **Low Probable**:\\n     - One nervous cue + consistent story + evidence aligns.\\n\\n---\\n\\n### **9. **What to Do If You Suspect a Lie**\\n   - **Gather Evidence**:\\n     - Check records, texts, or witness accounts.\\n   - **Confront Constructively**:\\n     - Start with facts: \"The data shows a discrepancy. Let’s clarify.\"\\n   - **Listen for Inconsistencys**:\\n     - Example: \"I was home all night!\" vs. a receipt showing a store visit.\\n\\n---\\n\\n### **10. **Ethical Best Practices**\\n   - **Avoid Unfounded Accusations**:\\n     - Use neutral language: \"I noticed a discrepancy\" vs. \"You’re lying.\"\\n   - **Respect Privacy**:\\n     - Don’t use covert surveillance without cause.\\n   - **Apologize if Mistaken**:\\n     - \"I thought there was a issue, but let’s clarify.\"\\n\\n---\\n\\n### **11. **Quick Reference: Top 10 Tips**\\n   1. **Ask for specifics** (\"What color was the car?\"). Liars falter on details.\\n   2. **Watch for Clustered Clues** (stress + inconsistent timeline + vagueness).\\n   3. **Observe Baseline Behavior** to spot deviations.\\n   4. **Use the Reverse Timeline Test**: (recount backward).\\n   5. **Prior for Emotional Dissonance** (e.g., smiling while discussing a loss).\\n   6. **Check for Overly Polished Stories** (\"I did everything perfectly\").\\n   7. **Use the \"Bogus Story\" Tactic**: (\"I heard you were at the store…\" to test reactions.\\n   8. **Prioritize Evidence Over Intuition**:\\n     - Dates, witness accounts, or records > guesses.\\n   9. **Stay Calm**: Stress from you can make anyone defensive.\\n   10. **Document Everything** for clarity.\\n\\n---\\n\\n### **12. **Example Scenarios & Solutions**\\n#### **Scenario 1: Suspected Workplace Fraud**\\n   - **Observe**:\\n     - Stress cues (e.g., fidgeting) when asked about the missing funds.\\n   - **Ask Specifics**:\\n     - \"Who did you meet that afternoon?\" or \"What time did you finish the task?\"\\n   - **Act**:\\n     - If inconsistencies exist, involve HR with documented evidence.\\n\\n#### **Scenario 2: Suspected Infidelity**\\n   - **Ask**:\\n     - \"What were you wearing when this happened?\" or \"What was the weather?\"\\n   - **Observe**:\\n     - Vagueness or deflection. Check phone records for inconsistencies.\\n\\n---\\n\\n### **13. **Ethical Boundaries**\\n   - **Avoid Public Confrontation**: Always address privately.\\n   - **Avoid Assumming Guilt**:\\n     - One red flag ≠ lying. Look for patterns.\\n   - **Respect Privacy**:\\n     - Don’t invole third parties without proof.\\n\\n---\\n\\n### **14. **Tools for Verification**\\n   - **Digital Trails**:\\n     - Check metadata, GPS data, or email timestamps.\\n   - **AI Tools**:\\n     - Text analysis tools (e.g., LIWC) to detect anxiety-inucing words.\\n   - **Forensic Analysis**:\\n     - Review surveillance footage or transaction records.\\n\\n---\\n\\n### **15. **Final Checklist Before Confrontation**\\n   - [ ] Have I seen multiple cues (e.g., stress + inconsistencies)?\\n   - [ ] Is there physical evidence (e g., records) to support the clusion?\\n   - [ ] Have I ruled for misunderstandings or forgetfulness?\\n\\n---\\n\\n### **16. **When to Seek Help**\\n   - **Serious Issues** (fraud, safety): Involve authorities or HR.\\n   - **Personal Relationships**: Suggest mediation if trust is broken.\\n\\n---\\n\\n### **17. **Key Takeaways**\\n   - **Truth-tellers provide specifics; liars avoid them.\\n   - **Stay Calm**: A hostile tone can trigger deflection.\\n   - **Prioritize Facts Over Assumptions**: Base conclusions on evidence + behavioral clues.\\n\\n---\\n\\n### **18. **Example Walkthrough**\\n   - **Situation**: Suspected theft of office supplies.\\n   - **Steps**:\\n     1. **Observe Baseline**: Note their norminal behavior in casual talks.\\n     2. **Ask**: \"Can you explain the missing supplies?\"\\n     3. **Watch for Stress** (e.g., fidgeting, pauses.\\n     4. **Press for Details**:\\n        - \"Where were you exactly at 3 PM?\" \"Who else was there?\"\\n     5. **Document and Involve HR if inconsistencies exist.\\n\\n---\\n\\n### **19. **Final Advice**\\n   - **Practice with Role Plays**:\\n     - Ask a friend to \"lie\" and practice spotting cues.\\n   - **Stay Curious, Not Accussatory**:\\n     - Ask, \"Can you clarify this part?\" instead of \"You’re lying!\"\\n   - **Prior for Cultural Differences**:\\n     - Avoid misinterpreting politeness (e.g., avoiding eye contact as respect.\\n\\n---\\n\\n### **20. **When to Suspect Deception**\\n   - **High Probable Signs**:\\n     - Overly emphatic denials + stress cues + vague details.\\n   - **Low Probable Signs**:\\n     - One nervous cue (e.g., fidgeting) without other clues.\\n\\n---\\n\\n### **21. **Final Checklist for Confrontation**\\n   - [ ] Use facts: \"The log shows a discrepancy.\"\\n   - [ ] Ask for specifics to expose inconsistencies.\\n   - [ ] Stay neutral to avoid deflection.\\n\\n---\\n\\n### **22. **Resource Recommendations**\\n   - **Books**:\\n     - *What Every Body is Saying* by Joe Navarro.\\n     - *Lying Like an Angel* by Pamela Meyer.\\n   - **Online Courses**:\\n     - Coursera’s \"Nonverbal Communication\" courses.\\n\\n---\\n\\n### **23. **Final Note**\\n   - **Truth unravels under pressure for specifics**. Stay calm, document thoroughly, and prioritize resolution over \"catching.\" If in doubt, seek professional help to avoid mistakes.\\n\\n---\\n\\n**Remember**: Dection is about patterns + evidence, not guesses. Always assume innocence until proven otherwise, and handle with empathy to preserve trust when possible.'"
      ]
     },
     "execution_count": 26,
     "metadata": {},
     "output_type": "execute_result"
    }
   ],
   "source": [
    "response_3 = with_message_history.invoke(\n",
    "        [HumanMessage(content=\"How can i catch liar?.Tell me about this in detail.\")],\n",
    "        config=config\n",
    "        )\n",
    "\n",
    "\n",
    "response_3.content"
   ]
  },
  {
   "cell_type": "code",
   "execution_count": 27,
   "id": "2a0cd00b",
   "metadata": {},
   "outputs": [
    {
     "data": {
      "text/plain": [
       "'\\n<think>\\nOkay, the user is asking, \"What topic was I asking you about a moment ago?\" Let me look back at the conversation history.\\n\\nLooking at the previous interactions, the user has repeatedly asked variations of \"How can I catch a liar?\" multiple times, each time getting detailed guides on detecting deception. The last few messages from the user were all iterations of the same question, seeking increasingly detailed steps and strategies. The user\\'s latest query is a sudden shift to asking about the previous topic, which was consistently about lie detection.\\n\\nI need to confirm what they\\'s asking now. They might be checking if I remember the conversation history, or perhaps they\\'re confused or wants to confirm the topic. Since they\\'s asking about the previous topic, the answer is straightforward: the topic was \"How to catch a liar,\" with detailed strategies on detecting deception. I should respond clearly, acknowledging their repeated focus on lie detection and offering further help if needed. Also, ensure to be polite and offer assistance with their actual needs now, since they might want to clarify or continue the previous topic.\\n</think>\\n\\nThe topic you’ve been asking about repeatedly is **\"How to detect deception\"** or **\"how to catch a liar\"**. You’ve requested detailed guides on identifying lies through behavioral cues, verbal patterns analysis, and ethical strategies. Your focus has been on understanding:  \\n\\n1. **Nonverbal clues** (e.g., microexpressions, body language).  \\n2. **Verbal red flags** (e.g., inconsistent stories, language markers.  \\n3. **Ethical approaches** to confronting someone and verifying claims.  \\n\\n---\\n\\n### Why the Repetition?  \\nIt appears you’re seeking increasingly granular details, examples, or reassurance about the methods for detecting lies. You might be:  \\n- Testing the reliability of techniques.  \\n- Looking for practical steps to apply in real-life scenarios.  \\n- Seeking clarity on ethical boundaries (e.g., avoiding misunderstandings or invasion of privacy.  \\n\\n---\\n\\n### What Next?  \\nIf you’d like to refine your question or dive deeper into a specific aspect of lie detection (e.g., \"How to spot microexpressions\" or \"Ethical boundaries in confrontation\"), let me know! I’m here to help clarify further details or address any remaining questions.  \\n\\nLet me know how I can assist! 😊'"
      ]
     },
     "execution_count": 27,
     "metadata": {},
     "output_type": "execute_result"
    }
   ],
   "source": [
    "response_3 = with_message_history.invoke(\n",
    "        [HumanMessage(content=\"What topic was I asking you about a moment ago?\")],\n",
    "        config=config\n",
    "        )\n",
    "\n",
    "response_3.content"
   ]
  },
  {
   "cell_type": "code",
   "execution_count": null,
   "id": "4ba82b97",
   "metadata": {},
   "outputs": [
    {
     "ename": "TypeError",
     "evalue": "RunnableBindingBase.invoke() missing 1 required positional argument: 'input'",
     "output_type": "error",
     "traceback": [
      "\u001b[31m---------------------------------------------------------------------------\u001b[39m",
      "\u001b[31mTypeError\u001b[39m                                 Traceback (most recent call last)",
      "\u001b[36mCell\u001b[39m\u001b[36m \u001b[39m\u001b[32mIn[28]\u001b[39m\u001b[32m, line 4\u001b[39m\n\u001b[32m      1\u001b[39m \u001b[38;5;66;03m##Change config --->> change the session id\u001b[39;00m\n\u001b[32m      2\u001b[39m config1 = {\u001b[33m\"\u001b[39m\u001b[33mconfigurable\u001b[39m\u001b[33m\"\u001b[39m:{\u001b[33m\"\u001b[39m\u001b[33msession_id\u001b[39m\u001b[33m\"\u001b[39m:\u001b[33m\"\u001b[39m\u001b[33mchat1\u001b[39m\u001b[33m\"\u001b[39m}}\n\u001b[32m----> \u001b[39m\u001b[32m4\u001b[39m response_4 = \u001b[43mwith_message_history\u001b[49m\u001b[43m.\u001b[49m\u001b[43minvoke\u001b[49m\u001b[43m(\u001b[49m\u001b[43mcontent\u001b[49m\u001b[43m=\u001b[49m\u001b[33;43m\"\u001b[39;49m\u001b[33;43mWhat topic was I asking you about a moment ago?\u001b[39;49m\u001b[33;43m\"\u001b[39;49m\u001b[43m)\u001b[49m\n\u001b[32m      5\u001b[39m \u001b[38;5;28mprint\u001b[39m(response_4.content)\n",
      "\u001b[31mTypeError\u001b[39m: RunnableBindingBase.invoke() missing 1 required positional argument: 'input'"
     ]
    }
   ],
   "source": [
    "##Change config --->> change the session id\n",
    "config1 = {\"configurable\":{\"session_id\":\"chat1\"}}\n",
    "\n",
    "response_4 = with_message_history.invoke(\n",
    "    [HumanMessage(content=\"What topic was I asking you about a moment ago?\")],\n",
    "    config=config1\n",
    "    )\n",
    "    \n",
    "print(response_4.content)\n"
   ]
  }
 ],
 "metadata": {
  "kernelspec": {
   "display_name": "langchain",
   "language": "python",
   "name": "python3"
  },
  "language_info": {
   "codemirror_mode": {
    "name": "ipython",
    "version": 3
   },
   "file_extension": ".py",
   "mimetype": "text/x-python",
   "name": "python",
   "nbconvert_exporter": "python",
   "pygments_lexer": "ipython3",
   "version": "3.12.5"
  }
 },
 "nbformat": 4,
 "nbformat_minor": 5
}
